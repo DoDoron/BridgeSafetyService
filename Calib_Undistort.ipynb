{
 "cells": [
  {
   "cell_type": "code",
   "execution_count": 1,
   "metadata": {},
   "outputs": [],
   "source": [
    "import cv2\n",
    "from cv2 import aruco\n",
    "import numpy as np\n",
    "import pandas as pd\n",
    "import os\n",
    "import glob"
   ]
  },
  {
   "cell_type": "code",
   "execution_count": 2,
   "metadata": {},
   "outputs": [],
   "source": [
    "# ArUco dictionary generate\n",
    "aruco_dict = aruco.Dictionary_get(aruco.DICT_5X5_100)\n",
    "# random marker board generate\n",
    "board = aruco.CharucoBoard_create(7, 6, 1, .8, aruco_dict)\n",
    "# board image generate\n",
    "imboard = board.draw((2000, 2000))\n",
    "\n",
    "# calibrate camera parameter\n",
    "calibration_flags = (cv2.CALIB_USE_INTRINSIC_GUESS +\n",
    "             cv2.CALIB_RATIONAL_MODEL + cv2.CALIB_FIX_ASPECT_RATIO)\n",
    "calibration_criteria = (cv2.TERM_CRITERIA_EPS + cv2.TERM_CRITERIA_MAX_ITER, 100, 1e-9)\n"
   ]
  },
  {
   "cell_type": "code",
   "execution_count": 3,
   "metadata": {},
   "outputs": [],
   "source": [
    "# Extract individual images stored in a given directory\n",
    "images = glob.glob('./Calibration_dataset/*.jpg')\n",
    "captured_images = []"
   ]
  },
  {
   "cell_type": "code",
   "execution_count": 4,
   "metadata": {},
   "outputs": [],
   "source": [
    "def createDirectory(directory):\n",
    "    try:\n",
    "        if not os.path.exists(directory):\n",
    "            os.makedirs(directory)\n",
    "    except OSError:\n",
    "        print(\"Error: Failed to create the directory.\")"
   ]
  },
  {
   "cell_type": "markdown",
   "metadata": {},
   "source": [
    "# Find checkerboard 2D coordinates"
   ]
  },
  {
   "cell_type": "code",
   "execution_count": 5,
   "metadata": {},
   "outputs": [],
   "source": [
    "allCorners = []\n",
    "allIds = []\n",
    "\n",
    "decimator = 0\n",
    "criteria = (cv2.TERM_CRITERIA_EPS +\n",
    "                cv2.TERM_CRITERIA_MAX_ITER, 100, 0.00001)\n",
    "\n",
    "for fname in images:\n",
    "    img = cv2.imread(fname)\n",
    "    gray = cv2.cvtColor(img, cv2.COLOR_BGR2GRAY)\n",
    "    corners, ids, rejectedImgPoints = cv2.aruco.detectMarkers(\n",
    "            gray, aruco_dict)\n",
    "\n",
    "    if len(corners) > 0:\n",
    "        # SUB PIXEL DETECTION\n",
    "        for corner in corners:\n",
    "            # Checkerboard corner improvements\n",
    "            cv2.cornerSubPix(gray, corner,\n",
    "                                winSize=(3, 3),\n",
    "                                zeroZone=(-1, -1),\n",
    "                                criteria=criteria)\n",
    "        res2 = cv2.aruco.interpolateCornersCharuco(\n",
    "            corners, ids, gray, board)\n",
    "        if res2[1] is not None and res2[2] is not None and len(res2[1]) > 3 and decimator % 1 == 0:\n",
    "            allCorners.append(res2[1])\n",
    "            allIds.append(res2[2])\n",
    "\n",
    "    decimator += 1\n",
    "imsize = gray.shape\n"
   ]
  },
  {
   "cell_type": "markdown",
   "metadata": {},
   "source": [
    "# Camera calibration"
   ]
  },
  {
   "cell_type": "code",
   "execution_count": 6,
   "metadata": {},
   "outputs": [],
   "source": [
    "cameraMatrixInit = np.array([[1000.,    0., imsize[0]/2.],\n",
    "                                 [0., 1000., imsize[1]/2.],\n",
    "                                 [0.,    0.,           1.]])\n",
    "\n",
    "distCoeffsInit = np.zeros((5, 1))\n",
    "flags = (cv2.CALIB_USE_INTRINSIC_GUESS +\n",
    "         cv2.CALIB_RATIONAL_MODEL + cv2.CALIB_FIX_ASPECT_RATIO)\n",
    "# flags = (cv2.CALIB_RATIONAL_MODEL)\n",
    "(ret, camera_matrix, distortion_coefficients0,\n",
    "rotation_vectors, translation_vectors,\n",
    "stdDeviationsIntrinsics, stdDeviationsExtrinsics,\n",
    "perViewErrors) = cv2.aruco.calibrateCameraCharucoExtended(\n",
    "    charucoCorners=allCorners,\n",
    "    charucoIds=allIds,\n",
    "    board=board,\n",
    "    imageSize=imsize,\n",
    "    cameraMatrix=cameraMatrixInit,\n",
    "    distCoeffs=distCoeffsInit,\n",
    "    flags=calibration_flags,\n",
    "    criteria=calibration_criteria)"
   ]
  },
  {
   "cell_type": "markdown",
   "metadata": {},
   "source": [
    "## Intrinsic camera matrix"
   ]
  },
  {
   "cell_type": "code",
   "execution_count": 7,
   "metadata": {},
   "outputs": [
    {
     "name": "stdout",
     "output_type": "stream",
     "text": [
      "Camera matrix : \n",
      "\n",
      "[[7.64751969e+02 0.00000000e+00 1.04080185e+03]\n",
      " [0.00000000e+00 7.64751969e+02 1.17123608e+03]\n",
      " [0.00000000e+00 0.00000000e+00 1.00000000e+00]]\n"
     ]
    }
   ],
   "source": [
    "print(\"Camera matrix : \\n\") \n",
    "print(camera_matrix)"
   ]
  },
  {
   "cell_type": "markdown",
   "metadata": {},
   "source": [
    "## Lens distortion coefficients"
   ]
  },
  {
   "cell_type": "code",
   "execution_count": 8,
   "metadata": {},
   "outputs": [
    {
     "name": "stdout",
     "output_type": "stream",
     "text": [
      "Distortion coefficients : \n",
      "\n",
      "[[-0.00234146]\n",
      " [-0.00943689]\n",
      " [-0.03305267]\n",
      " [-0.00434785]\n",
      " [-0.02999369]\n",
      " [ 0.01724588]\n",
      " [ 0.01557708]\n",
      " [-0.03983207]\n",
      " [ 0.        ]\n",
      " [ 0.        ]\n",
      " [ 0.        ]\n",
      " [ 0.        ]\n",
      " [ 0.        ]\n",
      " [ 0.        ]]\n"
     ]
    }
   ],
   "source": [
    "print(\"Distortion coefficients : \\n\") \n",
    "print(distortion_coefficients0)"
   ]
  },
  {
   "cell_type": "markdown",
   "metadata": {},
   "source": [
    "## Rotation matrix"
   ]
  },
  {
   "cell_type": "code",
   "execution_count": 11,
   "metadata": {},
   "outputs": [
    {
     "name": "stdout",
     "output_type": "stream",
     "text": [
      "rvecs : \n",
      "\n",
      "(array([[ 3.0498011 ],\n",
      "       [ 0.0307864 ],\n",
      "       [-0.03294996]]), array([[ 3.0464983 ],\n",
      "       [-0.00684857],\n",
      "       [-0.02135296]]), array([[ 3.05297099],\n",
      "       [-0.00354083],\n",
      "       [-0.02254089]]), array([[ 3.05843832e+00],\n",
      "       [-2.83536528e-03],\n",
      "       [-2.18790942e-02]]), array([[ 3.0499601 ],\n",
      "       [ 0.00696822],\n",
      "       [-0.02989532]]), array([[ 3.05203287],\n",
      "       [-0.01246835],\n",
      "       [-0.01293518]]), array([[ 3.05030213],\n",
      "       [-0.00694365],\n",
      "       [-0.02110914]]), array([[ 3.04763954],\n",
      "       [-0.00608836],\n",
      "       [-0.0158901 ]]), array([[ 3.050597  ],\n",
      "       [-0.01322168],\n",
      "       [-0.0132542 ]]), array([[ 3.04983506e+00],\n",
      "       [ 9.65933717e-04],\n",
      "       [-2.48092945e-02]]), array([[ 3.04874973],\n",
      "       [-0.01078716],\n",
      "       [-0.01368802]]), array([[ 3.05013752],\n",
      "       [ 0.03039838],\n",
      "       [-0.03065611]]), array([[ 3.0448228 ],\n",
      "       [-0.01188953],\n",
      "       [-0.01244924]]), array([[ 3.04646758],\n",
      "       [ 0.01103063],\n",
      "       [-0.03383788]]), array([[ 3.04942016],\n",
      "       [ 0.01453817],\n",
      "       [-0.04513737]]), array([[ 3.05073953],\n",
      "       [ 0.02060707],\n",
      "       [-0.04085147]]), array([[ 3.04882826],\n",
      "       [ 0.01375517],\n",
      "       [-0.02987272]]), array([[ 3.04629569],\n",
      "       [ 0.00967341],\n",
      "       [-0.02713948]]), array([[ 3.05319419e+00],\n",
      "       [ 1.90157393e-03],\n",
      "       [-3.30831435e-02]]), array([[ 3.04677961],\n",
      "       [ 0.00386827],\n",
      "       [-0.0239914 ]]))\n"
     ]
    }
   ],
   "source": [
    "print(\"rvecs : \\n\") \n",
    "print(rotation_vectors)"
   ]
  },
  {
   "cell_type": "markdown",
   "metadata": {},
   "source": [
    "## Translation matrix"
   ]
  },
  {
   "cell_type": "code",
   "execution_count": 12,
   "metadata": {},
   "outputs": [
    {
     "name": "stdout",
     "output_type": "stream",
     "text": [
      "tvecs : \n",
      "\n",
      "(array([[-6.00168178],\n",
      "       [-4.48152065],\n",
      "       [ 7.37432115]]), array([[-6.76423768],\n",
      "       [-4.16620414],\n",
      "       [ 7.35435014]]), array([[-6.54864085],\n",
      "       [-4.64261255],\n",
      "       [ 7.32501926]]), array([[-6.49740507],\n",
      "       [-5.01119372],\n",
      "       [ 7.37970508]]), array([[-6.39231817],\n",
      "       [-4.73744772],\n",
      "       [ 7.42153439]]), array([[-7.02421039],\n",
      "       [-4.5958977 ],\n",
      "       [ 7.33095697]]), array([[-6.29766609],\n",
      "       [-4.5707929 ],\n",
      "       [ 7.44144877]]), array([[-6.81584443],\n",
      "       [-4.49765047],\n",
      "       [ 7.40557638]]), array([[-6.63400953],\n",
      "       [-4.58334358],\n",
      "       [ 7.44154692]]), array([[-6.20834748],\n",
      "       [-4.59760779],\n",
      "       [ 7.45160188]]), array([[-6.72680669],\n",
      "       [-4.48155276],\n",
      "       [ 7.40385601]]), array([[-5.78532068],\n",
      "       [-4.57239676],\n",
      "       [ 7.39330538]]), array([[-6.56920791],\n",
      "       [-4.38100283],\n",
      "       [ 7.37675244]]), array([[-6.06246109],\n",
      "       [-4.40700164],\n",
      "       [ 7.44879758]]), array([[-5.92684262],\n",
      "       [-4.36406267],\n",
      "       [ 7.53845447]]), array([[-6.0316197 ],\n",
      "       [-4.7027246 ],\n",
      "       [ 7.50285277]]), array([[-6.5234134 ],\n",
      "       [-4.70811627],\n",
      "       [ 7.47723429]]), array([[-6.46028276],\n",
      "       [-4.32746293],\n",
      "       [ 7.43221604]]), array([[-5.93313839],\n",
      "       [-4.54852634],\n",
      "       [ 7.50462026]]), array([[-6.68795495],\n",
      "       [-4.35996993],\n",
      "       [ 7.34744446]]))\n"
     ]
    }
   ],
   "source": [
    "print(\"tvecs : \\n\")\n",
    "print(translation_vectors)"
   ]
  },
  {
   "cell_type": "markdown",
   "metadata": {},
   "source": [
    "# Undistort"
   ]
  },
  {
   "cell_type": "code",
   "execution_count": 10,
   "metadata": {},
   "outputs": [],
   "source": [
    "# undistort\n",
    "dir=\"Calibration_dataset\"\n",
    "createDirectory(\"undistort\")\n",
    "\n",
    "for i in os.listdir(dir):\n",
    "    img=cv2.imread(dir+'/'+i)\n",
    "    img_undist = cv2.undistort(img, camera_matrix, distortion_coefficients0, None)\n",
    "    concatenated_image = cv2.hconcat([img, img_undist])\n",
    "    concatenated_image = cv2.resize(concatenated_image, (0,0), fx=0.5, fy=0.5)\n",
    "    cv2.imshow(\"undistorted\", concatenated_image)\n",
    "    cv2.imwrite(\"undistort/undist_{0}.png\".format(i), concatenated_image)\n",
    "    key = cv2.waitKey(0)\n",
    "    if key == 27:\n",
    "        cv2.destroyAllWindows()"
   ]
  }
 ],
 "metadata": {
  "kernelspec": {
   "display_name": "Python 3",
   "language": "python",
   "name": "python3"
  },
  "language_info": {
   "codemirror_mode": {
    "name": "ipython",
    "version": 3
   },
   "file_extension": ".py",
   "mimetype": "text/x-python",
   "name": "python",
   "nbconvert_exporter": "python",
   "pygments_lexer": "ipython3",
   "version": "3.10.2"
  },
  "orig_nbformat": 4
 },
 "nbformat": 4,
 "nbformat_minor": 2
}
