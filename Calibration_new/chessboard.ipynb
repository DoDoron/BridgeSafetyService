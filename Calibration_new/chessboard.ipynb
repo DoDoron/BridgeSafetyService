{
 "cells": [
  {
   "cell_type": "code",
   "execution_count": 1,
   "metadata": {},
   "outputs": [],
   "source": [
    "import cv2\n",
    "from cv2 import aruco\n",
    "import numpy as np\n",
    "import pandas as pd\n",
    "import os\n",
    "import glob"
   ]
  },
  {
   "cell_type": "code",
   "execution_count": 2,
   "metadata": {},
   "outputs": [],
   "source": [
    "# 체커보드의 차원 정의\n",
    "CHECKERBOARD = (6,8) # 체커보드 행과 열당 내부 코너 수\n",
    "criteria = (cv2.TERM_CRITERIA_EPS + cv2.TERM_CRITERIA_MAX_ITER, 30, 0.001)\n",
    "# 각 체커보드 이미지에 대한 3D 점 벡터를 저장할 벡터 생성\n",
    "objpoints = []\n",
    "# 각 체커보드 이미지에 대한 2D 점 벡터를 저장할 벡터 생성\n",
    "imgpoints = [] \n",
    "# 3D 점의 세계 좌표 정의\n",
    "objp = np.zeros((1, CHECKERBOARD[0] * CHECKERBOARD[1], 3), np.float32)\n",
    "objp[0,:,:2] = np.mgrid[0:CHECKERBOARD[0], 0:CHECKERBOARD[1]].T.reshape(-1, 2)\n",
    "prev_img_shape = None"
   ]
  },
  {
   "cell_type": "code",
   "execution_count": 3,
   "metadata": {},
   "outputs": [],
   "source": [
    "# 주어진 디렉터리에 저장된 개별 이미지의 경로 추출\n",
    "images = glob.glob('./images/*.jpg')\n",
    "for fname in images:\n",
    "    img = cv2.imread(fname)\n",
    "    # 그레이 스케일로 변환\n",
    "    gray = cv2.cvtColor(img,cv2.COLOR_BGR2GRAY)\n",
    "    # 체커보드 코너 찾기\n",
    "    # 이미지에서 원하는 개수의 코너가 발견되면 ret = true\n",
    "    ret, corners = cv2.findChessboardCorners(gray,\n",
    "                                             CHECKERBOARD,\n",
    "                                             cv2.CALIB_CB_ADAPTIVE_THRESH + cv2.CALIB_CB_FAST_CHECK + cv2.CALIB_CB_NORMALIZE_IMAGE)\n",
    "    # 원하는 개수의 코너가 감지되면,\n",
    "    # 픽셀 좌표 미세조정 -> 체커보드 이미지 표시\n",
    "    if ret == True:\n",
    "        objpoints.append(objp)\n",
    "        # 주어진 2D 점에 대한 픽셀 좌표 미세조정\n",
    "        corners2 = cv2.cornerSubPix(gray, corners, (11,11),(-1,-1), criteria)\n",
    "        imgpoints.append(corners2)\n",
    "        # 코너 그리기 및 표시\n",
    "        img = cv2.drawChessboardCorners(img, CHECKERBOARD, corners2, ret)\n",
    "    cv2.imshow('img',img)\n",
    "    cv2.waitKey(0)\n",
    "cv2.destroyAllWindows()\n",
    "h,w = img.shape[:2] # 480, 640\n",
    "# 알려진 3D 점(objpoints) 값과 감지된 코너의 해당 픽셀 좌표(imgpoints) 전달, 카메라 캘리브레이션 수행\n",
    "ret, mtx, dist, rvecs, tvecs = cv2.calibrateCamera(objpoints, imgpoints, gray.shape[::-1], None, None)"
   ]
  },
  {
   "cell_type": "code",
   "execution_count": 4,
   "metadata": {},
   "outputs": [
    {
     "name": "stdout",
     "output_type": "stream",
     "text": [
      "Camera matrix : \n",
      "\n",
      "[[5.69388816e+03 0.00000000e+00 1.84375874e+03]\n",
      " [0.00000000e+00 5.69616921e+03 1.13412874e+03]\n",
      " [0.00000000e+00 0.00000000e+00 1.00000000e+00]]\n"
     ]
    }
   ],
   "source": [
    "print(\"Camera matrix : \\n\") # 내부 카메라 행렬\n",
    "print(mtx)"
   ]
  },
  {
   "cell_type": "code",
   "execution_count": 5,
   "metadata": {},
   "outputs": [
    {
     "name": "stdout",
     "output_type": "stream",
     "text": [
      "dist : \n",
      "\n",
      "[[-5.75322844e-01 -3.55776935e-02 -1.26358540e-02 -4.40453397e-03\n",
      "   3.01122901e+01]]\n"
     ]
    }
   ],
   "source": [
    "print(\"dist : \\n\") # 렌즈 왜곡 계수(Lens distortion coefficients)\n",
    "print(dist)"
   ]
  },
  {
   "cell_type": "code",
   "execution_count": 6,
   "metadata": {},
   "outputs": [
    {
     "name": "stdout",
     "output_type": "stream",
     "text": [
      "rvecs : \n",
      "\n",
      "(array([[-0.15152656],\n",
      "       [ 0.05718157],\n",
      "       [ 1.55664856]]), array([[-0.12212314],\n",
      "       [ 0.09727981],\n",
      "       [ 1.46734996]]), array([[-0.12442954],\n",
      "       [ 0.06170135],\n",
      "       [ 1.51621589]]), array([[-0.16231616],\n",
      "       [ 0.05150364],\n",
      "       [ 1.55569665]]))\n"
     ]
    }
   ],
   "source": [
    "print(\"rvecs : \\n\") # 회전 벡터\n",
    "print(rvecs)"
   ]
  },
  {
   "cell_type": "code",
   "execution_count": 7,
   "metadata": {},
   "outputs": [
    {
     "name": "stdout",
     "output_type": "stream",
     "text": [
      "tvecs : \n",
      "\n",
      "(array([[ 2.34848404],\n",
      "       [-3.45916829],\n",
      "       [27.98409241]]), array([[ 3.56017269],\n",
      "       [-3.38822809],\n",
      "       [27.49144807]]), array([[ 2.88511263],\n",
      "       [-3.86851882],\n",
      "       [27.76812337]]), array([[ 2.3281809 ],\n",
      "       [-3.20067509],\n",
      "       [28.05792016]]))\n"
     ]
    }
   ],
   "source": [
    "print(\"tvecs : \\n\") # 이동 벡터\n",
    "print(tvecs)"
   ]
  },
  {
   "cell_type": "code",
   "execution_count": 8,
   "metadata": {},
   "outputs": [],
   "source": [
    "def createDirectory(directory):\n",
    "    try:\n",
    "        if not os.path.exists(directory):\n",
    "            os.makedirs(directory)\n",
    "    except OSError:\n",
    "        print(\"Error: Failed to create the directory.\")"
   ]
  },
  {
   "cell_type": "code",
   "execution_count": 9,
   "metadata": {},
   "outputs": [],
   "source": [
    "# undistort\n",
    "dir=\"images\"\n",
    "createDirectory(\"undistort_chesboard\")\n",
    "\n",
    "for i in os.listdir(dir):\n",
    "    img=cv2.imread(dir+'/'+i)\n",
    "    img_undist = cv2.undistort(img, mtx, dist, None)\n",
    "    concatenated_image = cv2.hconcat([img, img_undist])\n",
    "    concatenated_image = cv2.resize(concatenated_image, (0,0), fx=0.5, fy=0.5)\n",
    "    cv2.imshow(\"undistorted\", concatenated_image)\n",
    "    cv2.imwrite(\"undistort_chesboard/undist_{0}.png\".format(i), concatenated_image)\n",
    "    key = cv2.waitKey(0)\n",
    "    if key == 27:\n",
    "        cv2.destroyAllWindows()"
   ]
  }
 ],
 "metadata": {
  "kernelspec": {
   "display_name": "Python 3",
   "language": "python",
   "name": "python3"
  },
  "language_info": {
   "codemirror_mode": {
    "name": "ipython",
    "version": 3
   },
   "file_extension": ".py",
   "mimetype": "text/x-python",
   "name": "python",
   "nbconvert_exporter": "python",
   "pygments_lexer": "ipython3",
   "version": "3.10.2"
  }
 },
 "nbformat": 4,
 "nbformat_minor": 2
}
