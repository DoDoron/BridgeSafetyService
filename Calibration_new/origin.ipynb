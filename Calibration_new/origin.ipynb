{
 "cells": [
  {
   "cell_type": "code",
   "execution_count": 1,
   "metadata": {},
   "outputs": [],
   "source": [
    "import cv2\n",
    "from cv2 import aruco\n",
    "import numpy as np\n",
    "import pandas as pd\n",
    "import os\n",
    "import glob"
   ]
  },
  {
   "cell_type": "code",
   "execution_count": 2,
   "metadata": {},
   "outputs": [],
   "source": [
    "# ArUco dictionary generate\n",
    "aruco_dict = aruco.Dictionary_get(aruco.DICT_5X5_100)\n",
    "# random marker board generate\n",
    "board = aruco.CharucoBoard_create(7, 6, 1, .8, aruco_dict)\n",
    "# board image generate\n",
    "imboard = board.draw((2000, 2000))\n",
    "\n",
    "# calibrate camera parameter\n",
    "calibration_flags = (cv2.CALIB_USE_INTRINSIC_GUESS +\n",
    "             cv2.CALIB_RATIONAL_MODEL + cv2.CALIB_FIX_ASPECT_RATIO)\n",
    "calibration_criteria = (cv2.TERM_CRITERIA_EPS + cv2.TERM_CRITERIA_MAX_ITER, 100, 1e-9)"
   ]
  },
  {
   "cell_type": "code",
   "execution_count": 3,
   "metadata": {},
   "outputs": [],
   "source": [
    "# Extract individual images stored in a given directory\n",
    "images = glob.glob('./calib_new_testimage1/*.jpg')\n",
    "captured_images = []"
   ]
  },
  {
   "cell_type": "code",
   "execution_count": 4,
   "metadata": {},
   "outputs": [],
   "source": [
    "def createDirectory(directory):\n",
    "    try:\n",
    "        if not os.path.exists(directory):\n",
    "            os.makedirs(directory)\n",
    "    except OSError:\n",
    "        print(\"Error: Failed to create the directory.\")"
   ]
  },
  {
   "cell_type": "markdown",
   "metadata": {},
   "source": [
    "# Find checkerboard 2D coordinates"
   ]
  },
  {
   "cell_type": "code",
   "execution_count": 5,
   "metadata": {},
   "outputs": [],
   "source": [
    "allCorners = []\n",
    "allIds = []\n",
    "\n",
    "decimator = 0\n",
    "criteria = (cv2.TERM_CRITERIA_EPS +\n",
    "                cv2.TERM_CRITERIA_MAX_ITER, 100, 0.00001)\n",
    "\n",
    "for fname in images:\n",
    "    img = cv2.imread(fname)\n",
    "    gray = cv2.cvtColor(img, cv2.COLOR_BGR2GRAY)\n",
    "    corners, ids, rejectedImgPoints = cv2.aruco.detectMarkers(\n",
    "            gray, aruco_dict)\n",
    "\n",
    "    if len(corners) > 0:\n",
    "        # SUB PIXEL DETECTION\n",
    "        for corner in corners:\n",
    "            # Checkerboard corner improvements\n",
    "            cv2.cornerSubPix(gray, corner,\n",
    "                                winSize=(3, 3),\n",
    "                                zeroZone=(-1, -1),\n",
    "                                criteria=criteria)\n",
    "        res2 = cv2.aruco.interpolateCornersCharuco(\n",
    "            corners, ids, gray, board)\n",
    "        if res2[1] is not None and res2[2] is not None and len(res2[1]) > 3 and decimator % 1 == 0:\n",
    "            allCorners.append(res2[1])\n",
    "            allIds.append(res2[2])\n",
    "\n",
    "    decimator += 1\n",
    "imsize = gray.shape\n"
   ]
  },
  {
   "cell_type": "markdown",
   "metadata": {},
   "source": [
    "# Camera calibration"
   ]
  },
  {
   "cell_type": "code",
   "execution_count": 6,
   "metadata": {},
   "outputs": [],
   "source": [
    "cameraMatrixInit = np.array([[1000.,    0., imsize[0]/2.],\n",
    "                                 [0., 1000., imsize[1]/2.],\n",
    "                                 [0.,    0.,           1.]])\n",
    "\n",
    "distCoeffsInit = np.zeros((5, 1))\n",
    "flags = (cv2.CALIB_USE_INTRINSIC_GUESS +\n",
    "         cv2.CALIB_RATIONAL_MODEL + cv2.CALIB_FIX_ASPECT_RATIO)\n",
    "# flags = (cv2.CALIB_RATIONAL_MODEL)\n",
    "(ret, camera_matrix, distortion_coefficients0,\n",
    "rotation_vectors, translation_vectors,\n",
    "stdDeviationsIntrinsics, stdDeviationsExtrinsics,\n",
    "perViewErrors) = cv2.aruco.calibrateCameraCharucoExtended(\n",
    "    charucoCorners=allCorners,\n",
    "    charucoIds=allIds,\n",
    "    board=board,\n",
    "    imageSize=imsize,\n",
    "    cameraMatrix=cameraMatrixInit,\n",
    "    distCoeffs=distCoeffsInit,\n",
    "    flags=calibration_flags,\n",
    "    criteria=calibration_criteria)"
   ]
  },
  {
   "cell_type": "markdown",
   "metadata": {},
   "source": [
    "## Intrinsic camera matrix"
   ]
  },
  {
   "cell_type": "code",
   "execution_count": 7,
   "metadata": {},
   "outputs": [
    {
     "name": "stdout",
     "output_type": "stream",
     "text": [
      "Camera matrix : \n",
      "\n",
      "[[4.67146077e+03 0.00000000e+00 1.38924359e+03]\n",
      " [0.00000000e+00 4.67146077e+03 1.74117421e+03]\n",
      " [0.00000000e+00 0.00000000e+00 1.00000000e+00]]\n"
     ]
    }
   ],
   "source": [
    "print(\"Camera matrix : \\n\") \n",
    "print(camera_matrix)"
   ]
  },
  {
   "cell_type": "markdown",
   "metadata": {},
   "source": [
    "## Lens distortion coefficients"
   ]
  },
  {
   "cell_type": "code",
   "execution_count": 8,
   "metadata": {},
   "outputs": [
    {
     "name": "stdout",
     "output_type": "stream",
     "text": [
      "Distortion coefficients : \n",
      "\n",
      "[[-2.40841702e+01]\n",
      " [ 1.87806516e+02]\n",
      " [-4.09401417e-02]\n",
      " [ 2.55104022e-02]\n",
      " [-1.34885758e+02]\n",
      " [-2.38359469e+01]\n",
      " [ 1.82013936e+02]\n",
      " [-9.24638217e+01]\n",
      " [ 0.00000000e+00]\n",
      " [ 0.00000000e+00]\n",
      " [ 0.00000000e+00]\n",
      " [ 0.00000000e+00]\n",
      " [ 0.00000000e+00]\n",
      " [ 0.00000000e+00]]\n"
     ]
    }
   ],
   "source": [
    "print(\"Distortion coefficients : \\n\") \n",
    "print(distortion_coefficients0)"
   ]
  },
  {
   "cell_type": "markdown",
   "metadata": {},
   "source": [
    "## Rotation matrix"
   ]
  },
  {
   "cell_type": "code",
   "execution_count": 9,
   "metadata": {},
   "outputs": [
    {
     "name": "stdout",
     "output_type": "stream",
     "text": [
      "rvecs : \n",
      "\n",
      "(array([[ 3.03254202],\n",
      "       [-0.11009948],\n",
      "       [ 0.05843064]]), array([[3.05458146],\n",
      "       [0.0240563 ],\n",
      "       [0.13344233]]), array([[ 3.04836692],\n",
      "       [-0.05787299],\n",
      "       [ 0.12677816]]), array([[3.04665887],\n",
      "       [0.08260337],\n",
      "       [0.12515124]]), array([[3.04134252],\n",
      "       [0.02007869],\n",
      "       [0.09473734]]), array([[ 3.04758497],\n",
      "       [-0.0611865 ],\n",
      "       [ 0.11574196]]), array([[3.04269599],\n",
      "       [0.10177816],\n",
      "       [0.10645557]]), array([[ 3.04827236e+00],\n",
      "       [-1.91938148e-03],\n",
      "       [ 9.00160931e-02]]), array([[ 3.05222751],\n",
      "       [-0.05146169],\n",
      "       [ 0.09792406]]), array([[ 3.05015022],\n",
      "       [-0.08630619],\n",
      "       [ 0.0911781 ]]), array([[3.04573694],\n",
      "       [0.015571  ],\n",
      "       [0.10578046]]), array([[3.03102355],\n",
      "       [0.08269744],\n",
      "       [0.10055215]]))\n"
     ]
    }
   ],
   "source": [
    "print(\"rvecs : \\n\") \n",
    "print(rotation_vectors)"
   ]
  },
  {
   "cell_type": "markdown",
   "metadata": {},
   "source": [
    "## Translation matrix"
   ]
  },
  {
   "cell_type": "code",
   "execution_count": 10,
   "metadata": {},
   "outputs": [
    {
     "name": "stdout",
     "output_type": "stream",
     "text": [
      "tvecs : \n",
      "\n",
      "(array([[-1.64475073],\n",
      "       [ 1.05634872],\n",
      "       [15.50734538]]), array([[-3.54314591],\n",
      "       [ 0.67642852],\n",
      "       [15.29067668]]), array([[-3.40225044],\n",
      "       [ 0.50694227],\n",
      "       [15.34144501]]), array([[-3.24032822],\n",
      "       [ 0.23523688],\n",
      "       [15.34432266]]), array([[-2.56581183],\n",
      "       [ 0.66598325],\n",
      "       [15.51299736]]), array([[-2.60174008],\n",
      "       [ 0.68658213],\n",
      "       [15.39463969]]), array([[-2.88272422],\n",
      "       [ 0.45178947],\n",
      "       [15.38152992]]), array([[-2.47084436],\n",
      "       [ 0.05264239],\n",
      "       [15.42861496]]), array([[-2.39021367],\n",
      "       [ 0.31501947],\n",
      "       [15.4319077 ]]), array([[-2.39939412],\n",
      "       [ 0.5071712 ],\n",
      "       [15.45150196]]), array([[-2.67234295],\n",
      "       [ 0.83350209],\n",
      "       [15.41634037]]), array([[-2.60798266],\n",
      "       [ 0.81287317],\n",
      "       [15.38804194]]))\n"
     ]
    }
   ],
   "source": [
    "print(\"tvecs : \\n\")\n",
    "print(translation_vectors)"
   ]
  },
  {
   "cell_type": "markdown",
   "metadata": {},
   "source": [
    "# Undistort"
   ]
  },
  {
   "cell_type": "code",
   "execution_count": 11,
   "metadata": {},
   "outputs": [],
   "source": [
    "# undistort\n",
    "dir=\"calib_new_testimage1\"\n",
    "createDirectory(\"undistort_new1\")\n",
    "\n",
    "for i in os.listdir(dir):\n",
    "    img=cv2.imread(dir+'/'+i)\n",
    "    img_undist = cv2.undistort(img, camera_matrix, distortion_coefficients0, None)\n",
    "    concatenated_image = cv2.hconcat([img, img_undist])\n",
    "    concatenated_image = cv2.resize(concatenated_image, (0,0), fx=0.5, fy=0.5)\n",
    "    cv2.imshow(\"undistorted\", concatenated_image)\n",
    "    cv2.imwrite(\"undistort_new1/undist_{0}.png\".format(i), concatenated_image)\n",
    "    key = cv2.waitKey(0)\n",
    "    if key == 27:\n",
    "        cv2.destroyAllWindows()"
   ]
  }
 ],
 "metadata": {
  "kernelspec": {
   "display_name": "Python 3",
   "language": "python",
   "name": "python3"
  },
  "language_info": {
   "codemirror_mode": {
    "name": "ipython",
    "version": 3
   },
   "file_extension": ".py",
   "mimetype": "text/x-python",
   "name": "python",
   "nbconvert_exporter": "python",
   "pygments_lexer": "ipython3",
   "version": "3.10.2"
  },
  "orig_nbformat": 4
 },
 "nbformat": 4,
 "nbformat_minor": 2
}
