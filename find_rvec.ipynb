{
 "cells": [
  {
   "cell_type": "code",
   "execution_count": 4,
   "metadata": {},
   "outputs": [],
   "source": [
    "import cv2\n",
    "from cv2 import aruco\n",
    "import matplotlib.pyplot as plt\n",
    "from scipy.optimize import least_squares\n",
    "import math as m\n",
    "import random\n",
    "import numpy.linalg as lin\n",
    "import numpy as np\n",
    "from numpy import genfromtxt"
   ]
  },
  {
   "cell_type": "code",
   "execution_count": 23,
   "metadata": {},
   "outputs": [],
   "source": [
    "camera_matrix = genfromtxt('const/mtx.csv', delimiter=',')\n",
    "dist_coeffs = genfromtxt('const/dst.csv', delimiter=',')\n",
    "squareLength, markerLength = 23, 18.5\n",
    "aruco_dict = aruco.Dictionary_get(aruco.DICT_5X5_100)\n",
    "arucoParams = aruco.DetectorParameters_create()\n",
    "\n",
    "img = cv2.imread(\"iphone/KakaoTalk_20230728_085933013.jpg\")\n",
    "h, w = img.shape[:2]\n",
    "newcameramtx, roi = cv2.getOptimalNewCameraMatrix(\n",
    "    camera_matrix, dist_coeffs, (w, h), 1, (w, h))\n",
    "\n",
    "dst = cv2.undistort(img, camera_matrix,\n",
    "                    dist_coeffs, None, newcameramtx)\n",
    "\n",
    "corners, ids, rejectedImgPoints = aruco.detectMarkers(dst, aruco_dict,\n",
    "                                                        parameters=arucoParams)\n",
    "diamondCorners, diamondIds = aruco.detectCharucoDiamond(dst, corners, ids, squareLength / markerLength,\n",
    "                                                                            diamondCorners=None, diamondIds=None,\n",
    "                                                                            cameraMatrix=None, distCoeffs=None)\n",
    "rvecs, tvecs, _objPoints = aruco.estimatePoseSingleMarkers(diamondCorners, markerLength, newcameramtx,\n",
    "                                                            dist_coeffs, rvecs=None, tvecs=None,\n",
    "                                                            _objPoints=None)\n",
    "\n",
    "aruco_coord = np.reshape(diamondCorners, (4, 2))\n",
    "im_with_charuco_board = aruco.drawAxis(dst, newcameramtx, dist_coeffs, rvecs[0], tvecs[0],\n",
    "                                        10)\n",
    "im_with_charuco_board = cv2.circle(im_with_charuco_board, (int(\n",
    "    aruco_coord[0, 0]), int(aruco_coord[0, 1])), 15, (255, 255, 255), -1)\n",
    "im_with_charuco_board = cv2.circle(im_with_charuco_board, (int(\n",
    "    aruco_coord[1, 0]), int(aruco_coord[1, 1])), 15, (255, 0, 0), -1)\n",
    "im_with_charuco_board = cv2.circle(im_with_charuco_board, (int(\n",
    "    aruco_coord[2, 0]), int(aruco_coord[2, 1])), 15, (0, 255, 0), -1)\n",
    "im_with_charuco_board = cv2.circle(im_with_charuco_board, (int(\n",
    "    aruco_coord[3, 0]), int(aruco_coord[3, 1])), 15, (0, 0, 255), -1)\n",
    "\n",
    "fig = cv2.resize(im_with_charuco_board, (0,0), fx=0.3, fy=0.3)\n",
    "cv2.imshow('fig', fig)\n",
    "cv2.waitKey(0)\n",
    "cv2.destroyAllWindows()"
   ]
  },
  {
   "cell_type": "code",
   "execution_count": 32,
   "metadata": {},
   "outputs": [],
   "source": [
    "def isRotationMatrix(R):\n",
    "    Rt = np.transpose(R)\n",
    "    shouldBeIdentity = np.dot(Rt, R)\n",
    "    I = np.identity(3, dtype=R.dtype)\n",
    "    n = np.linalg.norm(I - shouldBeIdentity)\n",
    "    return n < 1e-6\n",
    "\n",
    "def rot2Eul(R):\n",
    "\n",
    "    assert (isRotationMatrix(R))\n",
    "    sy = m.sqrt(R[0, 0] * R[0, 0] + R[1, 0] * R[1, 0])\n",
    "\n",
    "    singular = sy < 1e-6\n",
    "\n",
    "    if not singular:\n",
    "        x = m.atan2(R[2, 1], R[2, 2])\n",
    "        y = m.atan2(-R[2, 0], sy)\n",
    "        z = m.atan2(R[1, 0], R[0, 0])\n",
    "    else:\n",
    "        x = m.atan2(-R[1, 2], R[1, 1])\n",
    "        y = m.atan2(-R[2, 0], sy)\n",
    "        z = 0\n",
    "\n",
    "    pitch = x/m.pi*180\n",
    "    yaw = y/m.pi*180\n",
    "    roll = z/m.pi*180\n",
    "\n",
    "    return np.array([pitch, yaw, roll])\n",
    "\n",
    "def eul2rotm(roll,yaw,pitch):\n",
    "    roll = m.pi/180 * roll\n",
    "    yaw = m.pi/180 * yaw\n",
    "    pitch = m.pi/180 * pitch\n",
    "    Rx = np.matrix([[ 1, 0           , 0           ],\n",
    "                   [ 0, m.cos(pitch),-m.sin(pitch)],\n",
    "                   [ 0, m.sin(pitch), m.cos(pitch)]])\n",
    "    Ry = np.matrix([[ m.cos(yaw), 0, m.sin(yaw)],\n",
    "                   [ 0           , 1, 0           ],\n",
    "                   [-m.sin(yaw), 0, m.cos(yaw)]])\n",
    "    Rz = np.matrix([[ m.cos(roll), -m.sin(roll), 0 ],\n",
    "                   [ m.sin(roll), m.cos(roll) , 0 ],\n",
    "                   [ 0           , 0            , 1 ]])\n",
    "    R = Rz * Ry * Rx\n",
    "    R = np.array(R)\n",
    "    return R"
   ]
  },
  {
   "cell_type": "code",
   "execution_count": 36,
   "metadata": {},
   "outputs": [],
   "source": [
    "def GenerateModel(tvecs, f_x, f_y, cx, cy, roll, yaw, pitch):\n",
    "    X = np.array([[markerLength / 2 + tvecs[0][0][1], -markerLength / 2 + tvecs[0][0][1], tvecs[0][0][2]],\n",
    "                [markerLength / 2 + tvecs[0][0][1], markerLength / 2 + tvecs[0][0][1], tvecs[0][0][2]],\n",
    "                [-markerLength / 2 + tvecs[0][0][1], markerLength / 2 + tvecs[0][0][1], tvecs[0][0][2]],\n",
    "                [-markerLength / 2 + tvecs[0][0][1], -markerLength / 2 + tvecs[0][0][1], tvecs[0][0][2]]])\n",
    "\n",
    "    R = np.array(eul2rotm(roll, yaw, pitch))\n",
    "    K = [[f_x, 0, cx], [0, f_y, cy], [0, 0, 1]]\n",
    "    K = np.array(K)\n",
    "\n",
    "    Xt = np.dot(R, X.T)\n",
    "    Xt = np.dot(K, Xt)\n",
    "    Xt = Xt.T\n",
    "    Xt = Xt/Xt[0][2]\n",
    "\n",
    "    return Xt"
   ]
  },
  {
   "cell_type": "code",
   "execution_count": 38,
   "metadata": {},
   "outputs": [
    {
     "name": "stdout",
     "output_type": "stream",
     "text": [
      "[[1408.0074 1903.363 ]\n",
      " [1552.9579 1912.8857]\n",
      " [1552.5175 2060.3716]\n",
      " [1409.5645 2049.5354]]\n",
      "[[2.60610923e+03 1.88661576e+03 1.00000000e+00]\n",
      " [2.60610923e+03 2.03279286e+03 1.00000000e+00]\n",
      " [2.45993212e+03 2.03279286e+03 1.00000000e+00]\n",
      " [2.45993212e+03 1.88661576e+03 1.00000000e+00]]\n"
     ]
    }
   ],
   "source": [
    "roll, yaw, pitch = 0, 0, 0\n",
    "A = GenerateModel(tvecs, camera_matrix[0][0], camera_matrix[1][1], camera_matrix[0][2], camera_matrix[1][2], roll, yaw, pitch)\n",
    "print(aruco_coord)\n",
    "print(A)"
   ]
  },
  {
   "cell_type": "code",
   "execution_count": null,
   "metadata": {},
   "outputs": [],
   "source": []
  },
  {
   "cell_type": "code",
   "execution_count": null,
   "metadata": {},
   "outputs": [],
   "source": [
    "def projectionError(xinput, factor):\n",
    "    error = xinput - GenerateModel(tvecs, camera_matrix[0][0], camera_matrix[1][1], camera_matrix[0][2], camera_matrix[1][2], factor[0], factor[1], factor[2])\n",
    "    return error\n",
    "\n",
    "def parameter(xinput, factor, bound_roll, bound_yaw, bound_pitch):\n",
    "\n",
    "\n",
    "    def fxn(factor_x):  # xinput은 바꿔줘야함\n",
    "        global estimated_X, error\n",
    "        error = projectionError(xinput, factor_x)\n",
    "        return error\n",
    "    \n",
    "    Optimization = least_squares(fxn, factor,\n",
    "                                 bounds=[[bound_yaw[0], bound_pitch[0]], [bound_yaw[1], bound_pitch[1]]])\n",
    "    \n",
    "    return Optimization"
   ]
  },
  {
   "cell_type": "code",
   "execution_count": null,
   "metadata": {},
   "outputs": [],
   "source": [
    "optimization=parameter(xinput, factor, bound_roll, bound_yaw, bound_pitch)\n",
    "estimated_roll = optimization[0].x[0]\n",
    "estimated_yaw = optimization[0].x[1]\n",
    "estimated_pitch = optimization[0].x[2]"
   ]
  }
 ],
 "metadata": {
  "kernelspec": {
   "display_name": "venv",
   "language": "python",
   "name": "python3"
  },
  "language_info": {
   "codemirror_mode": {
    "name": "ipython",
    "version": 3
   },
   "file_extension": ".py",
   "mimetype": "text/x-python",
   "name": "python",
   "nbconvert_exporter": "python",
   "pygments_lexer": "ipython3",
   "version": "3.8.8"
  },
  "orig_nbformat": 4
 },
 "nbformat": 4,
 "nbformat_minor": 2
}
