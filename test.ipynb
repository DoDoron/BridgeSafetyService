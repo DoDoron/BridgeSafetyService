{
 "cells": [
  {
   "cell_type": "code",
   "execution_count": 30,
   "metadata": {},
   "outputs": [],
   "source": [
    "import cv2\n",
    "import numpy as np\n",
    "import pandas as pd\n",
    "import os\n",
    "import glob"
   ]
  },
  {
   "cell_type": "code",
   "execution_count": 20,
   "metadata": {},
   "outputs": [],
   "source": [
    "# 체커보드의 차원 정의\n",
    "CHECKERBOARD = (6,9) # 체커보드 행과 열당 내부 코너 수\n",
    "criteria = (cv2.TERM_CRITERIA_EPS + cv2.TERM_CRITERIA_MAX_ITER, 30, 0.001)\n",
    "# 각 체커보드 이미지에 대한 3D 점 벡터를 저장할 벡터 생성\n",
    "objpoints = []\n",
    "# 각 체커보드 이미지에 대한 2D 점 벡터를 저장할 벡터 생성\n",
    "imgpoints = [] \n",
    "# 3D 점의 세계 좌표 정의\n",
    "objp = np.zeros((1, CHECKERBOARD[0] * CHECKERBOARD[1], 3), np.float32)\n",
    "objp[0,:,:2] = np.mgrid[0:CHECKERBOARD[0], 0:CHECKERBOARD[1]].T.reshape(-1, 2)\n",
    "prev_img_shape = None"
   ]
  },
  {
   "cell_type": "code",
   "execution_count": 21,
   "metadata": {},
   "outputs": [],
   "source": [
    "# 주어진 디렉터리에 저장된 개별 이미지의 경로 추출\n",
    "images = glob.glob('./Calibration_dataset/*.jpg')"
   ]
  },
  {
   "cell_type": "markdown",
   "metadata": {},
   "source": [
    "# 체커보드 2D 좌표 찾기 "
   ]
  },
  {
   "cell_type": "markdown",
   "metadata": {},
   "source": [
    "### 1. 체커보드 찾고 코너 좌표 반환\n",
    "```retval, corners = cv2.findChessboardCorners(image, patternSize, flags)```\n",
    "* patternSize : 체커보드 행과 열당 내부 코너 수\n",
    "* corners : 감지된 코너의 출력 배열\n",
    "* flags : 다양한 작업 플래그"
   ]
  },
  {
   "cell_type": "markdown",
   "metadata": {},
   "source": [
    "### 2. 체커보드 코너 개선\n",
    "좋은 결과를 얻으려면 sub-pixel 수준의 정확도로 코너 위치를 얻는 것이 중요하다.      \n",
    "원본 이미지와 코너 위치를 가져와서 원래 위치의 작은 이웃 내에서 가장 좋은 코너 위치를 찾는다.       \n",
    "종료 기준을 지정해야 한다. \n",
    "```cv2.cornerSubPix(image, corners, winSize, zeroZone, criteria)```\n",
    "* corners : 입력 코너의 초기 좌표와 출력을 위해 제공되는 개선 좌표\n",
    "* winSize : 검색 창의 측면 길이의 절반\n",
    "* zeroZone : 아래 공식의 합산이 이루어지지 않은 탐색 영역 중앙에 있는 사각 영역(dead region) 크기의 절반. 자기상관 행렬(autocorrelation matrix)의 가능한 특이성을 피하기 위해 때때로 사용. (-1,-1) 값은 그러한 크기가 없음을 나타냄.\n",
    "* criteria : 코너 미세 조정(corner refinement)의 반복 프로세스 종료 기준. 즉, 코너 위치 미세 조정 프로세스는 criteria.maxCount 반복 후 또는 일부 반복에서 코너 위치가 criteria.epsilon보다 작게 이동할 때  중지됨."
   ]
  },
  {
   "cell_type": "code",
   "execution_count": 22,
   "metadata": {},
   "outputs": [],
   "source": [
    "for fname in images:\n",
    "    img = cv2.imread(fname)\n",
    "    # 그레이 스케일로 변환\n",
    "    gray = cv2.cvtColor(img,cv2.COLOR_BGR2GRAY)\n",
    "    # 체커보드 코너 찾기\n",
    "    # 이미지에서 원하는 개수의 코너가 발견되면 ret = true\n",
    "    ret, corners = cv2.findChessboardCorners(gray,\n",
    "                                             CHECKERBOARD,\n",
    "                                             cv2.CALIB_CB_ADAPTIVE_THRESH + cv2.CALIB_CB_FAST_CHECK + cv2.CALIB_CB_NORMALIZE_IMAGE)\n",
    "    # 원하는 개수의 코너가 감지되면,\n",
    "    # 픽셀 좌표 미세조정 -> 체커보드 이미지 표시\n",
    "    if ret == True:\n",
    "        objpoints.append(objp)\n",
    "        # 주어진 2D 점에 대한 픽셀 좌표 미세조정\n",
    "        corners2 = cv2.cornerSubPix(gray, corners, (11,11),(-1,-1), criteria)\n",
    "        imgpoints.append(corners2)\n",
    "        # 코너 그리기 및 표시\n",
    "        img = cv2.drawChessboardCorners(img, CHECKERBOARD, corners2, ret)\n",
    "    cv2.imshow('img',img)\n",
    "    cv2.waitKey(0)\n",
    "cv2.destroyAllWindows()\n",
    "h,w = img.shape[:2] # 480, 640"
   ]
  },
  {
   "cell_type": "markdown",
   "metadata": {},
   "source": [
    "# 카메라 캘리브레이션"
   ]
  },
  {
   "cell_type": "markdown",
   "metadata": {},
   "source": [
    "```retval, cameraMatrix, distCoeffs, rvecs, tvecs = cv2.calibrateCamera(objectPoints, imagePoints, imageSize)```\n",
    "* objectPoints : 3D 점 벡터로 구성된 벡터. 외부 벡터는 패턴 사진의 수만큼 요소를 포함\n",
    "* imagePoints : 2D 이미지 점 벡터로 구성된 벡터\n",
    "* imageSize\t: 이미지의 크기\n",
    "* cameraMatrix : 내부 카메라 행렬\n",
    "* distCoeffs : 렌즈 왜곡 계수(Lens distortion coefficients)\n",
    "* rvecs : 회전은 3×1 벡터로 지정. 벡터의 방향은 회전 축을 지정하고 벡터의 크기는 회전 각을 지정\n",
    "* tvecs\t: 3×1 이동 벡터"
   ]
  },
  {
   "cell_type": "code",
   "execution_count": 23,
   "metadata": {},
   "outputs": [],
   "source": [
    "# 알려진 3D 점(objpoints) 값과 감지된 코너의 해당 픽셀 좌표(imgpoints) 전달, 카메라 캘리브레이션 수행\n",
    "ret, mtx, dist, rvecs, tvecs = cv2.calibrateCamera(objpoints, imgpoints, gray.shape[::-1], None, None)"
   ]
  },
  {
   "cell_type": "markdown",
   "metadata": {},
   "source": [
    "내부 카메라 행렬"
   ]
  },
  {
   "cell_type": "code",
   "execution_count": 24,
   "metadata": {},
   "outputs": [
    {
     "name": "stdout",
     "output_type": "stream",
     "text": [
      "Camera matrix : \n",
      "\n",
      "[[1.13365105e+03 0.00000000e+00 6.50904750e+02]\n",
      " [0.00000000e+00 1.13139467e+03 3.92421490e+02]\n",
      " [0.00000000e+00 0.00000000e+00 1.00000000e+00]]\n"
     ]
    }
   ],
   "source": [
    "print(\"Camera matrix : \\n\") # 내부 카메라 행렬\n",
    "print(mtx)"
   ]
  },
  {
   "cell_type": "markdown",
   "metadata": {},
   "source": [
    "렌즈 왜곡 계수(Lens distortion coefficients)"
   ]
  },
  {
   "cell_type": "code",
   "execution_count": 25,
   "metadata": {},
   "outputs": [
    {
     "name": "stdout",
     "output_type": "stream",
     "text": [
      "dist : \n",
      "\n",
      "[[-0.22067338 -0.37452586 -0.00147645  0.00081546  0.71218214]]\n"
     ]
    }
   ],
   "source": [
    "print(\"dist : \\n\") # 렌즈 왜곡 계수(Lens distortion coefficients)\n",
    "print(dist)"
   ]
  },
  {
   "cell_type": "markdown",
   "metadata": {},
   "source": [
    "Undistort"
   ]
  },
  {
   "cell_type": "code",
   "execution_count": 29,
   "metadata": {},
   "outputs": [
    {
     "data": {
      "text/plain": [
       "True"
      ]
     },
     "execution_count": 29,
     "metadata": {},
     "output_type": "execute_result"
    }
   ],
   "source": [
    "# undistort\n",
    "img=cv2.imread('./Calibration_dataset/calibration6.jpg')\n",
    "h, w = img.shape[:2]\n",
    "newcameramtx, roi = cv2.getOptimalNewCameraMatrix(mtx, dist, (w,h), 1, (w,h))\n",
    "\n",
    "dst = cv2.undistort(img, mtx, dist, None, newcameramtx)\n",
    "\n",
    "x, y, w, h = roi\n",
    "dst = dst[y:y+h, x:x+w]\n",
    "cv2.imwrite('calibresult.png', dst)"
   ]
  },
  {
   "cell_type": "code",
   "execution_count": 52,
   "metadata": {},
   "outputs": [
    {
     "name": "stdout",
     "output_type": "stream",
     "text": [
      "[[-0.02010607 -0.01730982 -0.03868419  0.00366522 -0.03838312  0.02813846\n",
      "   0.02444793 -0.06326856  0.          0.          0.          0.\n",
      "   0.          0.        ]]\n"
     ]
    }
   ],
   "source": [
    "import csv\n",
    "dist_data = list()\n",
    "f = open(\"./Const/dst.csv\",'r')\n",
    "rea = csv.reader(f)\n",
    "for row in rea:\n",
    "    dist_data.extend(row)\n",
    "f.close\n",
    "\n",
    "converted_list = [float(num) for num in dist_data]\n",
    "dist_data = np.array([dist_data], dtype=float)\n",
    "print(dist_data)"
   ]
  },
  {
   "cell_type": "code",
   "execution_count": 44,
   "metadata": {},
   "outputs": [
    {
     "name": "stdout",
     "output_type": "stream",
     "text": [
      "[[9.31567222e+02 0.00000000e+00 8.73384926e+02]\n",
      " [0.00000000e+00 9.31567222e+02 1.07022471e+03]\n",
      " [0.00000000e+00 0.00000000e+00 1.00000000e+00]]\n"
     ]
    }
   ],
   "source": [
    "mtx_data = list()\n",
    "f = open(\"./Const/mtx.csv\",'r')\n",
    "r = csv.reader(f)\n",
    "for row in r:\n",
    "    mtx_data.append(row)\n",
    "f.close\n",
    "\n",
    "mtx_data = np.array(mtx_data, dtype=float)\n",
    "print(mtx_data)"
   ]
  },
  {
   "cell_type": "code",
   "execution_count": 48,
   "metadata": {},
   "outputs": [],
   "source": [
    "i=1\n",
    "while True:\n",
    "    img=cv2.imread('./dataset/calib_{0}.jpg'.format(i))\n",
    "    h, w = img.shape[:2]\n",
    "    newcameramtx, roi = cv2.getOptimalNewCameraMatrix(mtx_data, dist_data, (w,h), 1, (w,h))\n",
    "\n",
    "    dst = cv2.undistort(img, mtx_data, dist_data, None, newcameramtx)\n",
    "\n",
    "    x, y, w, h = roi\n",
    "    dst = dst[y:y+h, x:x+w]\n",
    "    cv2.imwrite('calibresult_{0}.png'.format(i), dst)\n",
    "    i=i+1\n",
    "    if i==21:\n",
    "        break"
   ]
  },
  {
   "cell_type": "markdown",
   "metadata": {},
   "source": [
    "회전 벡터"
   ]
  },
  {
   "cell_type": "code",
   "execution_count": 26,
   "metadata": {},
   "outputs": [
    {
     "name": "stdout",
     "output_type": "stream",
     "text": [
      "rvecs : \n",
      "\n",
      "(array([[ 0.56058364],\n",
      "       [ 0.24738196],\n",
      "       [-1.50327664]]), array([[-0.31975595],\n",
      "       [ 0.38529646],\n",
      "       [-1.53356819]]), array([[-0.48397354],\n",
      "       [ 0.54529693],\n",
      "       [-1.49734872]]), array([[-0.82635033],\n",
      "       [ 0.28476593],\n",
      "       [-1.89636445]]), array([[ 0.43142097],\n",
      "       [-0.3260521 ],\n",
      "       [-1.54367237]]), array([[ 0.33700114],\n",
      "       [-0.37064783],\n",
      "       [-1.52400195]]), array([[ 0.38028665],\n",
      "       [-0.29694257],\n",
      "       [-1.60265958]]), array([[ 0.21675552],\n",
      "       [ 0.13430721],\n",
      "       [-1.55324044]]), array([[ 0.17798513],\n",
      "       [ 0.10810855],\n",
      "       [-1.56815434]]), array([[-0.21785387],\n",
      "       [ 0.37089327],\n",
      "       [-1.49158263]]), array([[-0.31248266],\n",
      "       [ 0.27738728],\n",
      "       [-1.55359268]]), array([[-0.00578542],\n",
      "       [ 0.03630805],\n",
      "       [-1.57639148]]), array([[-0.48554946],\n",
      "       [ 0.52418942],\n",
      "       [-1.49992988]]), array([[ 0.56276053],\n",
      "       [-0.51118997],\n",
      "       [-1.52388076]]), array([[ 0.42597766],\n",
      "       [-0.71524306],\n",
      "       [-1.36775445]]))\n"
     ]
    }
   ],
   "source": [
    "print(\"rvecs : \\n\") # 회전 벡터\n",
    "print(rvecs)"
   ]
  },
  {
   "cell_type": "markdown",
   "metadata": {},
   "source": [
    "이동 벡터"
   ]
  },
  {
   "cell_type": "code",
   "execution_count": 27,
   "metadata": {},
   "outputs": [
    {
     "name": "stdout",
     "output_type": "stream",
     "text": [
      "tvecs : \n",
      "\n",
      "(array([[-2.17462619],\n",
      "       [ 3.52325315],\n",
      "       [21.66110903]]), array([[-16.54363737],\n",
      "       [  1.3323944 ],\n",
      "       [ 31.56328052]]), array([[ 0.14106533],\n",
      "       [ 1.41096513],\n",
      "       [21.72801862]]), array([[-4.35412705],\n",
      "       [ 2.64368223],\n",
      "       [24.21311643]]), array([[ 5.65327771],\n",
      "       [ 0.43557922],\n",
      "       [20.61281979]]), array([[ 4.7258506 ],\n",
      "       [ 3.42605523],\n",
      "       [19.41203179]]), array([[ 5.42204832],\n",
      "       [-0.15924217],\n",
      "       [19.59122403]]), array([[-3.78594564],\n",
      "       [ 3.46865369],\n",
      "       [17.81514657]]), array([[-3.36467837],\n",
      "       [ 0.69972342],\n",
      "       [18.36604614]]), array([[-12.87771783],\n",
      "       [ -0.75524109],\n",
      "       [ 23.72894757]]), array([[-13.09954128],\n",
      "       [  4.39624418],\n",
      "       [ 23.92419602]]), array([[-4.45439465],\n",
      "       [ 0.98562857],\n",
      "       [30.00744945]]), array([[-9.16890211],\n",
      "       [ 1.54794605],\n",
      "       [31.7784304 ]]), array([[ 1.06249134],\n",
      "       [ 1.98150347],\n",
      "       [19.40574887]]), array([[-0.74024701],\n",
      "       [ 0.19104079],\n",
      "       [20.25215318]]))\n"
     ]
    }
   ],
   "source": [
    "print(\"tvecs : \\n\") # 이동 벡터\n",
    "print(tvecs)"
   ]
  }
 ],
 "metadata": {
  "kernelspec": {
   "display_name": "Python 3",
   "language": "python",
   "name": "python3"
  },
  "language_info": {
   "codemirror_mode": {
    "name": "ipython",
    "version": 3
   },
   "file_extension": ".py",
   "mimetype": "text/x-python",
   "name": "python",
   "nbconvert_exporter": "python",
   "pygments_lexer": "ipython3",
   "version": "3.10.2"
  },
  "orig_nbformat": 4
 },
 "nbformat": 4,
 "nbformat_minor": 2
}
